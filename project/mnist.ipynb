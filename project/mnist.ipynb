{
  "nbformat": 4,
  "nbformat_minor": 0,
  "metadata": {
    "colab": {
      "name": "mnist.ipynb",
      "provenance": []
    },
    "kernelspec": {
      "name": "python3",
      "display_name": "Python 3"
    }
  },
  "cells": [
    {
      "cell_type": "code",
      "metadata": {
        "id": "Li9Wj-rTaMSw",
        "colab_type": "code",
        "colab": {}
      },
      "source": [
        "import numpy as np\n",
        "import pandas as pd\n",
        "import tensorflow as tf\n",
        "import matplotlib.pyplot as plt\n",
        "from keras.utils import to_categorical\n",
        "from keras.datasets import mnist\n",
        "from keras.models import Sequential\n",
        "from keras.layers import Dense, Conv2D, Dropout, Flatten,MaxPooling2D"
      ],
      "execution_count": 0,
      "outputs": []
    },
    {
      "cell_type": "code",
      "metadata": {
        "id": "rHAfGDLia_xI",
        "colab_type": "code",
        "colab": {}
      },
      "source": [
        "#loading dataset\n",
        "(x_train,y_train),(x_test,y_test)=mnist.load_data()\n",
        "rows,cols=28,28\n",
        "input_shape=(28,28,1)\n",
        "\n"
      ],
      "execution_count": 0,
      "outputs": []
    },
    {
      "cell_type": "code",
      "metadata": {
        "id": "pPHE5J44cVhT",
        "colab_type": "code",
        "colab": {}
      },
      "source": [
        "#reshaping the input test and train data\n",
        "x_train=x_train.reshape(x_train.shape[0], rows, cols,1)\n",
        "x_test=x_test.reshape(x_test.shape[0], rows, cols,1)"
      ],
      "execution_count": 0,
      "outputs": []
    },
    {
      "cell_type": "code",
      "metadata": {
        "id": "emjpZttEde4k",
        "colab_type": "code",
        "outputId": "0cabace7-504c-47c9-a827-07a7a804d267",
        "colab": {
          "base_uri": "https://localhost:8080/",
          "height": 265
        }
      },
      "source": [
        "plt.imshow(x_train[0][:,:,0])\n",
        "plt.show()"
      ],
      "execution_count": 0,
      "outputs": [
        {
          "output_type": "display_data",
          "data": {
            "image/png": "[encoded data removed]",
            "text/plain": [
              "<Figure size 432x288 with 1 Axes>"
            ]
          },
          "metadata": {
            "tags": [],
            "needs_background": "light"
          }
        }
      ]
    },
    {
      "cell_type": "code",
      "metadata": {
        "id": "e7iZOW6Ng0fn",
        "colab_type": "code",
        "colab": {}
      },
      "source": [
        "x_train=x_train.astype('float32')\n",
        "x_test=x_test.astype('float32')\n",
        "\n",
        "#normalising for effectient traning\n",
        "x_train=x_train/255\n",
        "x_test=x_test/255"
      ],
      "execution_count": 0,
      "outputs": []
    },
    {
      "cell_type": "code",
      "metadata": {
        "id": "oj4rn5huh2J3",
        "colab_type": "code",
        "colab": {}
      },
      "source": [
        "#adding layers to sequential model\n",
        "model= Sequential()\n",
        "\n",
        "model.add(Conv2D(28, kernel_size=(3,3), input_shape=input_shape))\n",
        "model.add(MaxPooling2D(pool_size=(2, 2)))\n",
        "model.add(Flatten())\n",
        "model.add(Dense(128,activation=tf.nn.relu))\n",
        "model.add(Dropout(0.2))\n",
        "model.add(Dense(10,activation=tf.nn.softmax))"
      ],
      "execution_count": 0,
      "outputs": []
    },
    {
      "cell_type": "code",
      "metadata": {
        "id": "CKViHwKFkPzA",
        "colab_type": "code",
        "colab": {}
      },
      "source": [
        "#optimising\n",
        "model.compile(optimizer='adam',loss='sparse_categorical_crossentropy',metrics=['accuracy'])"
      ],
      "execution_count": 0,
      "outputs": []
    },
    {
      "cell_type": "code",
      "metadata": {
        "id": "qHF-Zx39kkDM",
        "colab_type": "code",
        "outputId": "8490050d-7d44-4d71-860b-f1a67866193c",
        "colab": {
          "base_uri": "https://localhost:8080/",
          "height": 204
        }
      },
      "source": [
        "#fitting the model\n",
        "model.fit(x=x_train,y=y_train,epochs=5)"
      ],
      "execution_count": 0,
      "outputs": [
        {
          "output_type": "stream",
          "text": [
            "Epoch 1/5\n",
            "60000/60000 [==============================] - 31s 523us/step - loss: 0.0163 - accuracy: 0.9941\n",
            "Epoch 2/5\n",
            "60000/60000 [==============================] - 31s 521us/step - loss: 0.0142 - accuracy: 0.9949\n",
            "Epoch 3/5\n",
            "60000/60000 [==============================] - 31s 522us/step - loss: 0.0138 - accuracy: 0.9951\n",
            "Epoch 4/5\n",
            "60000/60000 [==============================] - 31s 524us/step - loss: 0.0153 - accuracy: 0.9951\n",
            "Epoch 5/5\n",
            "60000/60000 [==============================] - 31s 523us/step - loss: 0.0128 - accuracy: 0.9956\n"
          ],
          "name": "stdout"
        },
        {
          "output_type": "execute_result",
          "data": {
            "text/plain": [
              "<keras.callbacks.callbacks.History at 0x7f1d7cb63c88>"
            ]
          },
          "metadata": {
            "tags": []
          },
          "execution_count": 107
        }
      ]
    },
    {
      "cell_type": "code",
      "metadata": {
        "id": "h4oUKhT-k5Nr",
        "colab_type": "code",
        "outputId": "eec5e913-bca8-4cf4-a3d5-1d254b0f6446",
        "colab": {
          "base_uri": "https://localhost:8080/",
          "height": 51
        }
      },
      "source": [
        "#evaluting the model\n",
        "model.evaluate(x_test,y_test)"
      ],
      "execution_count": 0,
      "outputs": [
        {
          "output_type": "stream",
          "text": [
            "10000/10000 [==============================] - 2s 157us/step\n"
          ],
          "name": "stdout"
        },
        {
          "output_type": "execute_result",
          "data": {
            "text/plain": [
              "[0.06593084294503378, 0.9851999878883362]"
            ]
          },
          "metadata": {
            "tags": []
          },
          "execution_count": 106
        }
      ]
    }
  ]
}